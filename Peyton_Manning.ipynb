{
 "cells": [
  {
   "cell_type": "code",
   "execution_count": null,
   "metadata": {},
   "outputs": [],
   "source": [
    "##########################################################################################\n",
    "# Final Project\n",
    "# This project will be taking the data from climate into below freezing temperatures\n",
    "# and taking the times where Peyton Manning made completed passes in \n",
    "# uncovered arenas and compare it to the passes he makes \n",
    "# incomplete in the uncovered areans. This is going to answer the \n",
    "# question if Peyton Manning can make complete passes in cold weather.\n",
    "# Reading in two different data sets. The first data set is 'Peytontemps.csv' which is\n",
    "# all of the temperatures, dates, and location of the games. In order to solve the\n",
    "# problem of which arena had a dome closed or open; if it was open I assumed the \n",
    "# temperature of 70 degrees (F). The second data set is 'Peytonpassing.csv' which is\n",
    "# the date of the game, completion percentage and rate percentage.\n",
    "# \n",
    "# By: Heather Bricca\n",
    "#\n",
    "# November 28,2018\n",
    "#\n",
    "#\n",
    "# I have not given or received, nor have I tolerated others' use of unauthorized aid.\n",
    "#\n",
    "#\n",
    "##########################################################################################"
   ]
  },
  {
   "cell_type": "code",
   "execution_count": 10,
   "metadata": {},
   "outputs": [],
   "source": [
    "# Defining the dataset and importing the modules we will need.\n",
    "import warnings\n",
    "warnings.filterwarnings('ignore', 'numpy.dtype size changed')\n",
    "\n",
    "from datetime import datetime\n",
    "import numpy as np\n",
    "import pandas as pd"
   ]
  },
  {
   "cell_type": "code",
   "execution_count": 11,
   "metadata": {},
   "outputs": [],
   "source": [
    "# Importing the data sets here.\n",
    "\n",
    "pass_percent = pd.read_csv('/home/hbricca/met330/final-project-hbricca/Peytonpassing.csv')\n",
    "temps = pd.read_csv('/home/hbricca/met330/final-project-hbricca/Peytontemps.csv')\n",
    "\n"
   ]
  },
  {
   "cell_type": "code",
   "execution_count": 12,
   "metadata": {},
   "outputs": [
    {
     "data": {
      "text/plain": [
       "(292, 3)"
      ]
     },
     "execution_count": 12,
     "metadata": {},
     "output_type": "execute_result"
    }
   ],
   "source": [
    "pass_percent.shape"
   ]
  },
  {
   "cell_type": "code",
   "execution_count": 13,
   "metadata": {},
   "outputs": [
    {
     "data": {
      "text/plain": [
       "(292, 4)"
      ]
     },
     "execution_count": 13,
     "metadata": {},
     "output_type": "execute_result"
    }
   ],
   "source": [
    "temps.shape"
   ]
  },
  {
   "cell_type": "code",
   "execution_count": null,
   "metadata": {},
   "outputs": [],
   "source": [
    "# Now making a definition to determine how many days he played in temperatures that were below 60 degrees\n",
    "# with 60 degrees being the current benchmark of warmish temperatures in Fahrenheit.\n",
    "\n",
    "def days():\n",
    "    '''This is the defintion that will determine the number of days that Peyton Manning played\n",
    "    in temperatures below 60 degrees\n",
    "    \n",
    "    Input:\n",
    "    temp which is the temperatures from the temps data set\n",
    "    \n",
    "    Output:\n",
    "    days which will be the number of days that were above 60\n",
    "    \n",
    "    days = '''"
   ]
  }
 ],
 "metadata": {
  "kernelspec": {
   "display_name": "Python 3",
   "language": "python",
   "name": "python3"
  },
  "language_info": {
   "codemirror_mode": {
    "name": "ipython",
    "version": 3
   },
   "file_extension": ".py",
   "mimetype": "text/x-python",
   "name": "python",
   "nbconvert_exporter": "python",
   "pygments_lexer": "ipython3",
   "version": "3.6.6"
  }
 },
 "nbformat": 4,
 "nbformat_minor": 2
}
